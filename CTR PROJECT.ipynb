{
 "cells": [
  {
   "cell_type": "code",
   "execution_count": 6,
   "id": "9469e638",
   "metadata": {},
   "outputs": [
    {
     "name": "stdout",
     "output_type": "stream",
     "text": [
      "   Daily Time Spent on Site  Age  Area Income  Daily Internet Usage  \\\n",
      "0                     62.26   32     69481.85                172.83   \n",
      "1                     41.73   31     61840.26                207.17   \n",
      "2                     44.40   30     57877.15                172.83   \n",
      "3                     59.88   28     56180.93                207.17   \n",
      "4                     49.21   30     54324.73                201.58   \n",
      "\n",
      "                         Ad Topic Line             City  Gender  \\\n",
      "0      Decentralized real-time circuit         Lisafort    Male   \n",
      "1       Optional full-range projection  West Angelabury    Male   \n",
      "2  Total 5thgeneration standardization        Reyesfurt  Female   \n",
      "3          Balanced empowering success      New Michael  Female   \n",
      "4  Total 5thgeneration standardization     West Richard  Female   \n",
      "\n",
      "                        Country        Timestamp  Clicked on Ad  \n",
      "0  Svalbard & Jan Mayen Islands   6/9/2016 21:43              0  \n",
      "1                     Singapore  1/16/2016 17:56              0  \n",
      "2                    Guadeloupe  6/29/2016 10:50              0  \n",
      "3                        Zambia  6/21/2016 14:32              0  \n",
      "4                         Qatar  7/21/2016 10:54              1  \n"
     ]
    }
   ],
   "source": [
    "import seaborn as sns\n",
    "import pandas as pd\n",
    "import matplotlib.pyplot as plt\n",
    "import plotly.graph_objects as go\n",
    "import plotly.express as px\n",
    "import plotly.io as pio\n",
    "import numpy as np\n",
    "pio.templates.default = \"plotly_white\"\n",
    "\n",
    "data = pd.read_csv(\"ad_10000records.csv\")\n",
    "print(data.head())"
   ]
  },
  {
   "cell_type": "code",
   "execution_count": 2,
   "id": "24140c85",
   "metadata": {},
   "outputs": [
    {
     "data": {
      "text/html": [
       "<div>\n",
       "<style scoped>\n",
       "    .dataframe tbody tr th:only-of-type {\n",
       "        vertical-align: middle;\n",
       "    }\n",
       "\n",
       "    .dataframe tbody tr th {\n",
       "        vertical-align: top;\n",
       "    }\n",
       "\n",
       "    .dataframe thead th {\n",
       "        text-align: right;\n",
       "    }\n",
       "</style>\n",
       "<table border=\"1\" class=\"dataframe\">\n",
       "  <thead>\n",
       "    <tr style=\"text-align: right;\">\n",
       "      <th></th>\n",
       "      <th>Daily Time Spent on Site</th>\n",
       "      <th>Age</th>\n",
       "      <th>Area Income</th>\n",
       "      <th>Daily Internet Usage</th>\n",
       "      <th>Clicked on Ad</th>\n",
       "    </tr>\n",
       "  </thead>\n",
       "  <tbody>\n",
       "    <tr>\n",
       "      <th>count</th>\n",
       "      <td>9997.000000</td>\n",
       "      <td>9997.000000</td>\n",
       "      <td>9997.000000</td>\n",
       "      <td>9997.000000</td>\n",
       "      <td>9997.000000</td>\n",
       "    </tr>\n",
       "    <tr>\n",
       "      <th>mean</th>\n",
       "      <td>61.657488</td>\n",
       "      <td>35.938782</td>\n",
       "      <td>53840.091087</td>\n",
       "      <td>177.758525</td>\n",
       "      <td>0.491647</td>\n",
       "    </tr>\n",
       "    <tr>\n",
       "      <th>std</th>\n",
       "      <td>15.704480</td>\n",
       "      <td>8.573801</td>\n",
       "      <td>13344.085332</td>\n",
       "      <td>40.820916</td>\n",
       "      <td>0.499955</td>\n",
       "    </tr>\n",
       "    <tr>\n",
       "      <th>min</th>\n",
       "      <td>32.600000</td>\n",
       "      <td>19.000000</td>\n",
       "      <td>13996.500000</td>\n",
       "      <td>105.220000</td>\n",
       "      <td>0.000000</td>\n",
       "    </tr>\n",
       "    <tr>\n",
       "      <th>25%</th>\n",
       "      <td>48.860000</td>\n",
       "      <td>29.000000</td>\n",
       "      <td>44078.240000</td>\n",
       "      <td>140.150000</td>\n",
       "      <td>0.000000</td>\n",
       "    </tr>\n",
       "    <tr>\n",
       "      <th>50%</th>\n",
       "      <td>59.590000</td>\n",
       "      <td>35.000000</td>\n",
       "      <td>56180.930000</td>\n",
       "      <td>178.920000</td>\n",
       "      <td>0.000000</td>\n",
       "    </tr>\n",
       "    <tr>\n",
       "      <th>75%</th>\n",
       "      <td>76.580000</td>\n",
       "      <td>42.000000</td>\n",
       "      <td>61840.260000</td>\n",
       "      <td>212.670000</td>\n",
       "      <td>1.000000</td>\n",
       "    </tr>\n",
       "    <tr>\n",
       "      <th>max</th>\n",
       "      <td>90.970000</td>\n",
       "      <td>60.000000</td>\n",
       "      <td>79332.330000</td>\n",
       "      <td>269.960000</td>\n",
       "      <td>1.000000</td>\n",
       "    </tr>\n",
       "  </tbody>\n",
       "</table>\n",
       "</div>"
      ],
      "text/plain": [
       "       Daily Time Spent on Site          Age   Area Income  \\\n",
       "count               9997.000000  9997.000000   9997.000000   \n",
       "mean                  61.657488    35.938782  53840.091087   \n",
       "std                   15.704480     8.573801  13344.085332   \n",
       "min                   32.600000    19.000000  13996.500000   \n",
       "25%                   48.860000    29.000000  44078.240000   \n",
       "50%                   59.590000    35.000000  56180.930000   \n",
       "75%                   76.580000    42.000000  61840.260000   \n",
       "max                   90.970000    60.000000  79332.330000   \n",
       "\n",
       "       Daily Internet Usage  Clicked on Ad  \n",
       "count           9997.000000    9997.000000  \n",
       "mean             177.758525       0.491647  \n",
       "std               40.820916       0.499955  \n",
       "min              105.220000       0.000000  \n",
       "25%              140.150000       0.000000  \n",
       "50%              178.920000       0.000000  \n",
       "75%              212.670000       1.000000  \n",
       "max              269.960000       1.000000  "
      ]
     },
     "execution_count": 2,
     "metadata": {},
     "output_type": "execute_result"
    }
   ],
   "source": [
    "data.describe()"
   ]
  },
  {
   "cell_type": "code",
   "execution_count": 2,
   "id": "9ada5b17",
   "metadata": {},
   "outputs": [
    {
     "data": {
      "text/html": [
       "<div>\n",
       "<style scoped>\n",
       "    .dataframe tbody tr th:only-of-type {\n",
       "        vertical-align: middle;\n",
       "    }\n",
       "\n",
       "    .dataframe tbody tr th {\n",
       "        vertical-align: top;\n",
       "    }\n",
       "\n",
       "    .dataframe thead th {\n",
       "        text-align: right;\n",
       "    }\n",
       "</style>\n",
       "<table border=\"1\" class=\"dataframe\">\n",
       "  <thead>\n",
       "    <tr style=\"text-align: right;\">\n",
       "      <th></th>\n",
       "      <th>Daily Time Spent on Site</th>\n",
       "      <th>Age</th>\n",
       "      <th>Area Income</th>\n",
       "      <th>Daily Internet Usage</th>\n",
       "      <th>Ad Topic Line</th>\n",
       "      <th>City</th>\n",
       "      <th>Gender</th>\n",
       "      <th>Country</th>\n",
       "      <th>Timestamp</th>\n",
       "      <th>Clicked on Ad</th>\n",
       "    </tr>\n",
       "  </thead>\n",
       "  <tbody>\n",
       "    <tr>\n",
       "      <th>0</th>\n",
       "      <td>62.26</td>\n",
       "      <td>32</td>\n",
       "      <td>69481.85</td>\n",
       "      <td>172.83</td>\n",
       "      <td>Decentralized real-time circuit</td>\n",
       "      <td>Lisafort</td>\n",
       "      <td>Male</td>\n",
       "      <td>Svalbard &amp; Jan Mayen Islands</td>\n",
       "      <td>6/9/2016 21:43</td>\n",
       "      <td>0</td>\n",
       "    </tr>\n",
       "    <tr>\n",
       "      <th>1</th>\n",
       "      <td>41.73</td>\n",
       "      <td>31</td>\n",
       "      <td>61840.26</td>\n",
       "      <td>207.17</td>\n",
       "      <td>Optional full-range projection</td>\n",
       "      <td>West Angelabury</td>\n",
       "      <td>Male</td>\n",
       "      <td>Singapore</td>\n",
       "      <td>1/16/2016 17:56</td>\n",
       "      <td>0</td>\n",
       "    </tr>\n",
       "    <tr>\n",
       "      <th>2</th>\n",
       "      <td>44.40</td>\n",
       "      <td>30</td>\n",
       "      <td>57877.15</td>\n",
       "      <td>172.83</td>\n",
       "      <td>Total 5thgeneration standardization</td>\n",
       "      <td>Reyesfurt</td>\n",
       "      <td>Female</td>\n",
       "      <td>Guadeloupe</td>\n",
       "      <td>6/29/2016 10:50</td>\n",
       "      <td>0</td>\n",
       "    </tr>\n",
       "    <tr>\n",
       "      <th>3</th>\n",
       "      <td>59.88</td>\n",
       "      <td>28</td>\n",
       "      <td>56180.93</td>\n",
       "      <td>207.17</td>\n",
       "      <td>Balanced empowering success</td>\n",
       "      <td>New Michael</td>\n",
       "      <td>Female</td>\n",
       "      <td>Zambia</td>\n",
       "      <td>6/21/2016 14:32</td>\n",
       "      <td>0</td>\n",
       "    </tr>\n",
       "    <tr>\n",
       "      <th>4</th>\n",
       "      <td>49.21</td>\n",
       "      <td>30</td>\n",
       "      <td>54324.73</td>\n",
       "      <td>201.58</td>\n",
       "      <td>Total 5thgeneration standardization</td>\n",
       "      <td>West Richard</td>\n",
       "      <td>Female</td>\n",
       "      <td>Qatar</td>\n",
       "      <td>7/21/2016 10:54</td>\n",
       "      <td>1</td>\n",
       "    </tr>\n",
       "  </tbody>\n",
       "</table>\n",
       "</div>"
      ],
      "text/plain": [
       "   Daily Time Spent on Site  Age  Area Income  Daily Internet Usage  \\\n",
       "0                     62.26   32     69481.85                172.83   \n",
       "1                     41.73   31     61840.26                207.17   \n",
       "2                     44.40   30     57877.15                172.83   \n",
       "3                     59.88   28     56180.93                207.17   \n",
       "4                     49.21   30     54324.73                201.58   \n",
       "\n",
       "                         Ad Topic Line             City  Gender  \\\n",
       "0      Decentralized real-time circuit         Lisafort    Male   \n",
       "1       Optional full-range projection  West Angelabury    Male   \n",
       "2  Total 5thgeneration standardization        Reyesfurt  Female   \n",
       "3          Balanced empowering success      New Michael  Female   \n",
       "4  Total 5thgeneration standardization     West Richard  Female   \n",
       "\n",
       "                        Country        Timestamp  Clicked on Ad  \n",
       "0  Svalbard & Jan Mayen Islands   6/9/2016 21:43              0  \n",
       "1                     Singapore  1/16/2016 17:56              0  \n",
       "2                    Guadeloupe  6/29/2016 10:50              0  \n",
       "3                        Zambia  6/21/2016 14:32              0  \n",
       "4                         Qatar  7/21/2016 10:54              1  "
      ]
     },
     "execution_count": 2,
     "metadata": {},
     "output_type": "execute_result"
    }
   ],
   "source": [
    "data.head()"
   ]
  },
  {
   "cell_type": "code",
   "execution_count": 3,
   "id": "a28dbefa",
   "metadata": {},
   "outputs": [
    {
     "data": {
      "text/html": [
       "<div>\n",
       "<style scoped>\n",
       "    .dataframe tbody tr th:only-of-type {\n",
       "        vertical-align: middle;\n",
       "    }\n",
       "\n",
       "    .dataframe tbody tr th {\n",
       "        vertical-align: top;\n",
       "    }\n",
       "\n",
       "    .dataframe thead th {\n",
       "        text-align: right;\n",
       "    }\n",
       "</style>\n",
       "<table border=\"1\" class=\"dataframe\">\n",
       "  <thead>\n",
       "    <tr style=\"text-align: right;\">\n",
       "      <th></th>\n",
       "      <th>Daily Time Spent on Site</th>\n",
       "      <th>Age</th>\n",
       "      <th>Area Income</th>\n",
       "      <th>Daily Internet Usage</th>\n",
       "      <th>Ad Topic Line</th>\n",
       "      <th>City</th>\n",
       "      <th>Gender</th>\n",
       "      <th>Country</th>\n",
       "      <th>Timestamp</th>\n",
       "      <th>Clicked on Ad</th>\n",
       "    </tr>\n",
       "  </thead>\n",
       "  <tbody>\n",
       "    <tr>\n",
       "      <th>9992</th>\n",
       "      <td>41.73</td>\n",
       "      <td>31</td>\n",
       "      <td>61840.26</td>\n",
       "      <td>207.17</td>\n",
       "      <td>Profound executive flexibility</td>\n",
       "      <td>West Angelabury</td>\n",
       "      <td>Male</td>\n",
       "      <td>Singapore</td>\n",
       "      <td>1/3/2016 3:22</td>\n",
       "      <td>1</td>\n",
       "    </tr>\n",
       "    <tr>\n",
       "      <th>9993</th>\n",
       "      <td>41.73</td>\n",
       "      <td>28</td>\n",
       "      <td>51501.38</td>\n",
       "      <td>120.49</td>\n",
       "      <td>Managed zero tolerance concept</td>\n",
       "      <td>Kennedyfurt</td>\n",
       "      <td>Male</td>\n",
       "      <td>Luxembourg</td>\n",
       "      <td>5/28/2016 12:20</td>\n",
       "      <td>0</td>\n",
       "    </tr>\n",
       "    <tr>\n",
       "      <th>9994</th>\n",
       "      <td>55.60</td>\n",
       "      <td>39</td>\n",
       "      <td>38067.08</td>\n",
       "      <td>124.44</td>\n",
       "      <td>Intuitive exuding service-desk</td>\n",
       "      <td>North Randy</td>\n",
       "      <td>Female</td>\n",
       "      <td>Egypt</td>\n",
       "      <td>1/5/2016 11:53</td>\n",
       "      <td>0</td>\n",
       "    </tr>\n",
       "    <tr>\n",
       "      <th>9995</th>\n",
       "      <td>46.61</td>\n",
       "      <td>50</td>\n",
       "      <td>43974.49</td>\n",
       "      <td>123.13</td>\n",
       "      <td>Realigned content-based leverage</td>\n",
       "      <td>North Samantha</td>\n",
       "      <td>Female</td>\n",
       "      <td>Malawi</td>\n",
       "      <td>4/4/2016 7:07</td>\n",
       "      <td>1</td>\n",
       "    </tr>\n",
       "    <tr>\n",
       "      <th>9996</th>\n",
       "      <td>46.61</td>\n",
       "      <td>43</td>\n",
       "      <td>60575.99</td>\n",
       "      <td>198.45</td>\n",
       "      <td>Optimized upward-trending productivity</td>\n",
       "      <td>Port Jeffrey</td>\n",
       "      <td>Male</td>\n",
       "      <td>Northern Mariana Islands</td>\n",
       "      <td>4/3/2016 21:13</td>\n",
       "      <td>1</td>\n",
       "    </tr>\n",
       "  </tbody>\n",
       "</table>\n",
       "</div>"
      ],
      "text/plain": [
       "      Daily Time Spent on Site  Age  Area Income  Daily Internet Usage  \\\n",
       "9992                     41.73   31     61840.26                207.17   \n",
       "9993                     41.73   28     51501.38                120.49   \n",
       "9994                     55.60   39     38067.08                124.44   \n",
       "9995                     46.61   50     43974.49                123.13   \n",
       "9996                     46.61   43     60575.99                198.45   \n",
       "\n",
       "                               Ad Topic Line             City  Gender  \\\n",
       "9992          Profound executive flexibility  West Angelabury    Male   \n",
       "9993          Managed zero tolerance concept      Kennedyfurt    Male   \n",
       "9994          Intuitive exuding service-desk      North Randy  Female   \n",
       "9995        Realigned content-based leverage   North Samantha  Female   \n",
       "9996  Optimized upward-trending productivity     Port Jeffrey    Male   \n",
       "\n",
       "                       Country        Timestamp  Clicked on Ad  \n",
       "9992                 Singapore    1/3/2016 3:22              1  \n",
       "9993                Luxembourg  5/28/2016 12:20              0  \n",
       "9994                     Egypt   1/5/2016 11:53              0  \n",
       "9995                    Malawi    4/4/2016 7:07              1  \n",
       "9996  Northern Mariana Islands   4/3/2016 21:13              1  "
      ]
     },
     "execution_count": 3,
     "metadata": {},
     "output_type": "execute_result"
    }
   ],
   "source": [
    "data.tail()"
   ]
  },
  {
   "cell_type": "code",
   "execution_count": 4,
   "id": "3d720541",
   "metadata": {},
   "outputs": [],
   "source": [
    "data[\"Clicked on Ad\"] = data[\"Clicked on Ad\"].map({0: \"No\", 1: \"Yes\"})\n"
   ]
  },
  {
   "cell_type": "code",
   "execution_count": 5,
   "id": "0b241392",
   "metadata": {},
   "outputs": [
    {
     "data": {
      "text/plain": [
       "No     5082\n",
       "Yes    4915\n",
       "Name: Clicked on Ad, dtype: int64"
      ]
     },
     "execution_count": 5,
     "metadata": {},
     "output_type": "execute_result"
    }
   ],
   "source": [
    "data[\"Clicked on Ad\"].value_counts()"
   ]
  },
  {
   "cell_type": "code",
   "execution_count": 10,
   "id": "6a1a196a",
   "metadata": {},
   "outputs": [
    {
     "name": "stdout",
     "output_type": "stream",
     "text": [
      "49.15\n"
     ]
    }
   ],
   "source": [
    "click_through_rate = 4915 / 10000 * 100\n",
    "print(click_through_rate)"
   ]
  },
  {
   "cell_type": "code",
   "execution_count": 7,
   "id": "ac466537",
   "metadata": {},
   "outputs": [],
   "source": [
    "data[\"Gender\"] = data[\"Gender\"].map({\"Male\": 1, \n",
    "                               \"Female\": 0})\n",
    "\n",
    "x=data.iloc[:,0:7]\n",
    "x=x.drop(['Ad Topic Line','City'],axis=1)\n",
    "y=data.iloc[:,9]\n",
    "\n",
    "from sklearn.model_selection import train_test_split\n",
    "xtrain,xtest,ytrain,ytest=train_test_split(x,y,test_size=0.2,random_state=4)"
   ]
  },
  {
   "cell_type": "code",
   "execution_count": 8,
   "id": "ea99f1cd",
   "metadata": {},
   "outputs": [],
   "source": [
    "from sklearn.ensemble import RandomForestClassifier\n",
    "model = RandomForestClassifier()\n",
    "model.fit(x, y)\n",
    "y_pred = model.predict(xtest)"
   ]
  },
  {
   "cell_type": "code",
   "execution_count": 9,
   "id": "035b6f35",
   "metadata": {},
   "outputs": [
    {
     "name": "stdout",
     "output_type": "stream",
     "text": [
      "0.965\n"
     ]
    }
   ],
   "source": [
    "from sklearn.metrics import accuracy_score\n",
    "print(accuracy_score(ytest,y_pred))"
   ]
  },
  {
   "cell_type": "code",
   "execution_count": 10,
   "id": "0fe5319b",
   "metadata": {},
   "outputs": [
    {
     "name": "stdout",
     "output_type": "stream",
     "text": [
      "Ads Click Through Rate Prediction : \n",
      "Daily Time Spent on Site: 30\n",
      "Age: 52\n",
      "Area Income: 24000\n",
      "Daily Internet Usage: 201\n",
      "Gender (Male = 1, Female = 0) : 1\n",
      "Will the user click on ad =  ['Yes']\n"
     ]
    },
    {
     "name": "stderr",
     "output_type": "stream",
     "text": [
      "C:\\Users\\KIIT\\anaconda3\\lib\\site-packages\\sklearn\\base.py:420: UserWarning: X does not have valid feature names, but RandomForestClassifier was fitted with feature names\n",
      "  warnings.warn(\n"
     ]
    }
   ],
   "source": [
    "print(\"Ads Click Through Rate Prediction : \")\n",
    "a = float(input(\"Daily Time Spent on Site: \"))\n",
    "b = float(input(\"Age: \"))\n",
    "c = float(input(\"Area Income: \"))\n",
    "d = float(input(\"Daily Internet Usage: \"))\n",
    "e = input(\"Gender (Male = 1, Female = 0) : \")\n",
    "\n",
    "features = np.array([[a, b, c, d, e]])\n",
    "print(\"Will the user click on ad = \", model.predict(features))"
   ]
  },
  {
   "cell_type": "code",
   "execution_count": 2,
   "id": "ce577296",
   "metadata": {},
   "outputs": [
    {
     "data": {
      "image/png": "[encoded data removed]",
      "text/plain": [
       "<Figure size 1000x1100 with 6 Axes>"
      ]
     },
     "metadata": {},
     "output_type": "display_data"
    }
   ],
   "source": [
    "data.hist(figsize=(10,11))\n",
    "plt.show()"
   ]
  },
  {
   "cell_type": "code",
   "execution_count": null,
   "id": "2f368b89",
   "metadata": {},
   "outputs": [],
   "source": []
  },
  {
   "cell_type": "code",
   "execution_count": null,
   "id": "e9209e0c",
   "metadata": {},
   "outputs": [],
   "source": []
  }
 ],
 "metadata": {
  "kernelspec": {
   "display_name": "Python 3 (ipykernel)",
   "language": "python",
   "name": "python3"
  },
  "language_info": {
   "codemirror_mode": {
    "name": "ipython",
    "version": 3
   },
   "file_extension": ".py",
   "mimetype": "text/x-python",
   "name": "python",
   "nbconvert_exporter": "python",
   "pygments_lexer": "ipython3",
   "version": "3.10.9"
  }
 },
 "nbformat": 4,
 "nbformat_minor": 5
}
